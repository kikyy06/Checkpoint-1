 "cell_type": "markdown",
      "source": [
        "# Business Understanding\n",
        "\n",
        "**Business Objective**\n",
        "\n",
        "Tujuan utama analisis ini adalah untuk melihat penjualan dari historis perusahaan supermarket yang dicatat di 3 cabang berbeda selama 3 bulan. Dataset Supermarket Sales Cleaned mencakup informasi tentang transaksi penjualan, termasuk tanggal, lokasi cabang, jenis pelanggan, metode pembayaran, jumlah produk, harga, pajak 5%, dan total pendapatan. Analisis dataset ini dapat memberikan gambaran tentang tren penjualan, preferensi pelanggan, dan efektivitas strategi harga.\n",
        "\n",
        "**Assess Situation**\n",
        "\n",
        "Data yang telah dikumpulkan mencakup:\n",
        "\n",
        "- Memahami pola penjualan: Mengidentifikasi produk atau kategori produk dengan penjualan tertinggi.\n",
        "- Analisis perilaku pelanggan: Mengetahui faktor faktor seperti lokasi cabang, jenis pelanggan, dan metode pembayaran transaksi.\n",
        "- Menganalisis tren musiman: Melihat apakah ada ketidakstabilan penjualan berdasarkan waktu atau hari tertentu.\n",
        "- Mengoptimalkan pengelolaan stok: Menyesuaikan inventaris berdasarkan pola permintaan untuk menghindari kelebihan atau kekurangan barang.\n",
        "- Meningkatkan kepuasan pelanggan: Menyediakan layanan dan promosi yang lebih sesuai dengan kesukaan pelanggan.\n",
        "\n",
        "**Data Mining Goals**\n",
        "\n",
        "- Segmentasi pelanggan: yaitu mengelompokkan pelanggan berdasarkan kebiasaan belanja, seperti frekuensi pembelian dan kategori produk yang dipilih, memodifikasi strategi pemasaran berdasarkan segmen pelanggan yang ditemukan.\n",
        "- Prediksi penjualan dan optimasi stok: yaitu mengidentifikasi potensi kekurangan atau kelebihan stok berdasarkan tren yang ada di historis.\n",
        "- Analisis pola penjualan: yaitu mengidentifikasi produk dan kategori yang paling laris dalam periode tertentu.\n",
        "\n",
        "Dengan mencapai goals di atas, supermarket dapat meningkatkan efisiensi operasional, meningkatkan loyalitas pelanggan, dan memaksimalkan keuntungan berdasarkan data.\n",
        "\n",
        "**Project Plan**\n",
        "\n",
        "- Pengambilan keputusan berbasis data: Memanfaatkan pola penjualan untuk strategi harga dan pemasaran yang lebih efektif.\n",
        "- Optimasi manajemen inventaris: Menghindari kekurangan atau kelebihan stok dengan memprediksi permintaan berdasarkan data historis.\n",
        "- Personalisasi layanan pelanggan: Menyesuaikan promosi dan program loyalitas berdasarkan segmentasi pelanggan.\n",
        "- Meningkatkan efisiensi operasional: Membagikan sumber daya yang lebih efektif berdasarkan performa cabang dan tren penjualan.\n",
        "- Peningkatan profitabilitas: Mengidentifikasi strategi harga dan pajak yang optimal untuk meningkatkan keuntungan."
      ],
      "metadata": {
        "id": "a2C8q9JXw0no"
      }
    }
  ],
  "metadata": {
    "colab": {
      "name": "Selamat Datang di Colaboratory",
      "toc_visible": true,
      "provenance": [],
      "include_colab_link": true
    },
    "kernelspec": {
      "display_name": "Python 3",
      "name": "python3"
    }
  },
  "nbformat": 4,
  "nbformat_minor": 0
}
